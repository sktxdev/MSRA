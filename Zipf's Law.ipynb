{
 "cells": [
  {
   "cell_type": "markdown",
   "metadata": {},
   "source": [
    "<h3>Zipf's Law</h3>\n",
    "\n",
    "Zipf's law (/ˈzɪf/) is an empirical law formulated using mathematical statistics that refers to the fact that many types of data studied in the physical and social sciences can be approximated with a Zipfian distribution, one of a family of related discrete power law probability distributions. Zipf distribution is related to the zeta distribution, but is not identical.\n",
    "\n",
    "For example, Zipf's law states that given some corpus of natural language utterances, the frequency of any word is inversely proportional to its rank in the frequency table. Thus the most frequent word will occur approximately twice as often as the second most frequent word, three times as often as the third most frequent word, etc.: the rank-frequency distribution is an inverse relation. For example, in the Brown Corpus of American English text, the word the is the most frequently occurring word, and by itself accounts for nearly 7% of all word occurrences (69,971 out of slightly over 1 million). True to Zipf's Law, the second-place word of accounts for slightly over 3.5% of words (36,411 occurrences), followed by and (28,852). Only 135 vocabulary items are needed to account for half the Brown Corpus.\n",
    "\n",
    "Reference: https://en.wikipedia.org/wiki/Zipf%27s_law\n"
   ]
  },
  {
   "cell_type": "code",
   "execution_count": 1,
   "metadata": {
    "collapsed": true
   },
   "outputs": [],
   "source": [
    "import matplotlib.pyplot as plt\n",
    "import numpy as np\n",
    "import pandas as pd\n",
    "import re\n",
    "import seaborn as sns\n",
    "\n"
   ]
  },
  {
   "cell_type": "code",
   "execution_count": 8,
   "metadata": {},
   "outputs": [
    {
     "data": {
      "text/html": [
       "<div>\n",
       "<style>\n",
       "    .dataframe thead tr:only-child th {\n",
       "        text-align: right;\n",
       "    }\n",
       "\n",
       "    .dataframe thead th {\n",
       "        text-align: left;\n",
       "    }\n",
       "\n",
       "    .dataframe tbody tr th {\n",
       "        vertical-align: top;\n",
       "    }\n",
       "</style>\n",
       "<table border=\"1\" class=\"dataframe\">\n",
       "  <thead>\n",
       "    <tr style=\"text-align: right;\">\n",
       "      <th></th>\n",
       "      <th>Phrase</th>\n",
       "      <th>clean_text</th>\n",
       "    </tr>\n",
       "  </thead>\n",
       "  <tbody>\n",
       "    <tr>\n",
       "      <th>0</th>\n",
       "      <td>A series of escapades demonstrating the adage ...</td>\n",
       "      <td>a series of escapades demonstrating the adage ...</td>\n",
       "    </tr>\n",
       "    <tr>\n",
       "      <th>1</th>\n",
       "      <td>A series of escapades demonstrating the adage ...</td>\n",
       "      <td>a series of escapades demonstrating the adage ...</td>\n",
       "    </tr>\n",
       "    <tr>\n",
       "      <th>2</th>\n",
       "      <td>A series</td>\n",
       "      <td>a series</td>\n",
       "    </tr>\n",
       "    <tr>\n",
       "      <th>3</th>\n",
       "      <td>A</td>\n",
       "      <td>a</td>\n",
       "    </tr>\n",
       "    <tr>\n",
       "      <th>4</th>\n",
       "      <td>series</td>\n",
       "      <td>series</td>\n",
       "    </tr>\n",
       "  </tbody>\n",
       "</table>\n",
       "</div>"
      ],
      "text/plain": [
       "                                              Phrase  \\\n",
       "0  A series of escapades demonstrating the adage ...   \n",
       "1  A series of escapades demonstrating the adage ...   \n",
       "2                                           A series   \n",
       "3                                                  A   \n",
       "4                                             series   \n",
       "\n",
       "                                          clean_text  \n",
       "0  a series of escapades demonstrating the adage ...  \n",
       "1  a series of escapades demonstrating the adage ...  \n",
       "2                                           a series  \n",
       "3                                                  a  \n",
       "4                                             series  "
      ]
     },
     "execution_count": 8,
     "metadata": {},
     "output_type": "execute_result"
    }
   ],
   "source": [
    "df = pd.read_csv('data/train.csv', sep='|')\n",
    "df = df[['Phrase']]\n",
    "df['clean_text'] = df['Phrase'].apply(lambda x: re.sub('[^A-Za-z\\']', ' ', x.lower()))\n",
    "df.head()"
   ]
  },
  {
   "cell_type": "code",
   "execution_count": 9,
   "metadata": {
    "collapsed": true
   },
   "outputs": [],
   "source": [
    "word_list = ' '.join(df.clean_text.values).split(' ')\n",
    "words = pd.DataFrame(word_list, columns=['word'])\n",
    "word_counts = words.word.value_counts().reset_index()\n",
    "word_counts.columns = ['word', 'n']\n",
    "word_counts['word_rank'] = word_counts.n.rank(ascending=False)\n"
   ]
  },
  {
   "cell_type": "code",
   "execution_count": 10,
   "metadata": {},
   "outputs": [
    {
     "data": {
      "text/plain": [
       "<matplotlib.axes._subplots.AxesSubplot at 0x11ad8fcf8>"
      ]
     },
     "execution_count": 10,
     "metadata": {},
     "output_type": "execute_result"
    },
    {
     "data": {
      "image/png": "[encoded data removed]",
      "text/plain": [
       "<matplotlib.figure.Figure at 0x118be82e8>"
      ]
     },
     "metadata": {},
     "output_type": "display_data"
    }
   ],
   "source": [
    "%matplotlib inline\n",
    "\n",
    "f, ax = plt.subplots(figsize=(7, 7))\n",
    "ax.set(xscale=\"log\", yscale=\"log\")\n",
    "sns.regplot(\"n\", \"word_rank\", word_counts, ax=ax, scatter_kws={\"s\": 100})"
   ]
  },
  {
   "cell_type": "markdown",
   "metadata": {},
   "source": [
    "<h4>Summary</h4>\n",
    "The frequency chart shows that spaces, the, a, of, and etc., \n",
    "(i.e., stopwords make up the highest percentage of words)\n",
    "How low to set the weed out point?\n",
    "                                                             "
   ]
  },
  {
   "cell_type": "code",
   "execution_count": 11,
   "metadata": {},
   "outputs": [
    {
     "name": "stdout",
     "output_type": "stream",
     "text": [
      "                  word       n  word_rank\n",
      "0                       175845        1.0\n",
      "1                  the   51633        2.0\n",
      "2                    a   36415        3.0\n",
      "3                   of   32702        4.0\n",
      "4                  and   32177        5.0\n",
      "5                   to   22761        6.0\n",
      "6                   's   16971        7.0\n",
      "7                   in   13997        8.0\n",
      "8                   is   13476        9.0\n",
      "9                 that   12338       10.0\n",
      "10                  it   11734       11.0\n",
      "11                  as    8651       12.0\n",
      "12                with    7750       13.0\n",
      "13                 for    7553       14.0\n",
      "14                 its    7051       15.0\n",
      "15                film    6733       16.0\n",
      "16                  an    6502       17.0\n",
      "17               movie    6241       18.0\n",
      "18                this    5677       19.0\n",
      "19                 but    5126       20.0\n",
      "20                  be    5053       21.0\n",
      "21                  on    4893       22.0\n",
      "22                 you    4855       23.0\n",
      "23                  by    3990       24.0\n",
      "24                 n't    3970       25.0\n",
      "25                more    3895       26.0\n",
      "26                 his    3827       27.0\n",
      "27                 one    3784       28.0\n",
      "28               about    3682       29.0\n",
      "29                 not    3668       30.0\n",
      "...                ...     ...        ...\n",
      "15108         turturro       2    15070.0\n",
      "15109           audrey       2    15070.0\n",
      "15110        execrable       2    15070.0\n",
      "15111         oliveira       2    15070.0\n",
      "15112              ruh       2    15070.0\n",
      "15113          ryosuke       2    15070.0\n",
      "15114         recovers       1    15126.5\n",
      "15115  underventilated       1    15126.5\n",
      "15116           roland       1    15126.5\n",
      "15117          implied       1    15126.5\n",
      "15118    retrospective       1    15126.5\n",
      "15119        anciently       1    15126.5\n",
      "15120            piles       1    15126.5\n",
      "15121                y       1    15126.5\n",
      "15122           upends       1    15126.5\n",
      "15123               tu       1    15126.5\n",
      "15124        prechewed       1    15126.5\n",
      "15125           lifted       1    15126.5\n",
      "15126    foreshadowing       1    15126.5\n",
      "15127        aggrieved       1    15126.5\n",
      "15128             luis       1    15126.5\n",
      "15129          casings       1    15126.5\n",
      "15130          omitted       1    15126.5\n",
      "15131           unsaid       1    15126.5\n",
      "15132           joshua       1    15126.5\n",
      "15133           petter       1    15126.5\n",
      "15134     overstylized       1    15126.5\n",
      "15135        credulity       1    15126.5\n",
      "15136       harmlessly       1    15126.5\n",
      "15137        marinated       1    15126.5\n",
      "\n",
      "[15138 rows x 3 columns]\n"
     ]
    }
   ],
   "source": [
    "print(word_counts)"
   ]
  },
  {
   "cell_type": "code",
   "execution_count": null,
   "metadata": {
    "collapsed": true
   },
   "outputs": [],
   "source": []
  }
 ],
 "metadata": {
  "kernelspec": {
   "display_name": "Python 3",
   "language": "python",
   "name": "python3"
  },
  "language_info": {
   "codemirror_mode": {
    "name": "ipython",
    "version": 3
   },
   "file_extension": ".py",
   "mimetype": "text/x-python",
   "name": "python",
   "nbconvert_exporter": "python",
   "pygments_lexer": "ipython3",
   "version": "3.6.2"
  }
 },
 "nbformat": 4,
 "nbformat_minor": 2
}
